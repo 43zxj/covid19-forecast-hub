{
 "cells": [
  {
   "cell_type": "code",
   "execution_count": 17,
   "metadata": {},
   "outputs": [
    {
     "name": "stdout",
     "output_type": "stream",
     "text": [
      "./data/2019-2020/CU-80-contact/202016.csv\n",
      "./data/2019-2020/Imperial-Ensemble1/202012.csv\n",
      "./data/2019-2020/Imperial-Ensemble1/202013.csv\n",
      "./data/2019-2020/Imperial-Ensemble1/202014.csv\n",
      "./data/2019-2020/Imperial-Ensemble1/202015.csv\n",
      "./data/2019-2020/LANL-GrowthRate/202016.csv\n"
     ]
    },
    {
     "name": "stderr",
     "output_type": "stream",
     "text": [
      "/Users/katiehouse/anaconda3/lib/python3.6/site-packages/ipykernel_launcher.py:15: FutureWarning: elementwise comparison failed; returning scalar instead, but in the future will perform elementwise comparison\n",
      "  from ipykernel import kernelapp as app\n"
     ]
    },
    {
     "name": "stdout",
     "output_type": "stream",
     "text": [
      "./data/2019-2020/LANL-GrowthRate/202015.csv\n",
      "./data/2019-2020/MOBS-MOBS/202016.csv\n",
      "./data/2019-2020/IHME-CurveFit/202016.csv\n",
      "./data/2019-2020/IHME-CurveFit/202014.csv\n",
      "./data/2019-2020/IHME-CurveFit/202015.csv\n",
      "./data/2019-2020/Imperial-Ensemble2/202012.csv\n",
      "./data/2019-2020/Imperial-Ensemble2/202013.csv\n",
      "./data/2019-2020/Imperial-Ensemble2/202014.csv\n",
      "./data/2019-2020/Imperial-Ensemble2/202015.csv\n",
      "./data/2019-2020/CU-60-contact/202016.csv\n",
      "./data/2019-2020/CU-70-contact/202016.csv\n"
     ]
    }
   ],
   "source": [
    "import pandas as pd\n",
    "import glob\n",
    "\n",
    "\n",
    "def reformat_forecasts(file_path):\n",
    "    # read forecast\n",
    "    fips_codes = pd.read_csv('../template/state_fips_codes.csv')\n",
    "    df = pd.read_csv(file_path)\n",
    "    \n",
    "    # lowercase all column headers\n",
    "    df.columns = map(str.lower, df.columns)\n",
    "\n",
    "    # Include US and state data\n",
    "    locations_in_file = df[\"location\"].unique()\n",
    "    if \"US\" in locations_in_file:\n",
    "        df[\"location\"].replace({\"US\": 1000}, inplace=True)\n",
    "        df[\"location\"] = df[\"location\"].apply(pd.to_numeric)\n",
    "        df = df.merge(fips_codes, left_on='location', right_on='state_code', how='left')\n",
    "        df.loc[df[\"location\"] == 1000, \"state_name\"] = \"US National\"\n",
    "    else:\n",
    "        df[\"location\"] = df[\"location\"].apply(pd.to_numeric)\n",
    "        df = df.merge(fips_codes, left_on='location', right_on='state_code', how='left')\n",
    "        \n",
    "    # Only visualize wk ahead forecasts\n",
    "    targets = ['1 wk ahead cum death', '2 wk ahead cum death', '3 wk ahead cum death', '4 wk ahead cum death']\n",
    "    df = df[df[\"target\"].isin(targets)]\n",
    "\n",
    "    # Only visualize certain states\n",
    "    states = ['US National', 'Alabama', 'Alaska', 'Arizona', 'Arkansas', 'California', 'Colorado', 'Connecticut',\n",
    "              'Delaware', 'Florida', 'Georgia', 'Hawaii', 'Idaho', 'Illinois', 'Indiana', 'Iowa', 'Kansas', 'Kentucky',\n",
    "              'Louisiana', 'Maine', 'Maryland', 'Massachusetts', 'Michigan', 'Minnesota', 'Mississippi', 'Missouri',\n",
    "              'Montana', 'Nebraska', 'Nevada', 'New Hampshire', 'New Jersey', 'New Mexico', 'New York',\n",
    "              'North Carolina', 'North Dakota', 'Ohio', 'Oklahoma', 'Oregon', 'Pennsylvania', 'Rhode Island',\n",
    "              'South Carolina', 'South Dakota', 'Tennessee', 'Texas', 'Utah', 'Vermont', 'Virginia', 'Washington',\n",
    "              'West Virginia', 'Wisconsin', 'Wyoming', 'District of Columbia']\n",
    "    df = df[df[\"state_name\"].isin(states)]\n",
    "\n",
    "    # Only visualize certain quantiles\n",
    "    #quantiles = [0.025, 0.25, 0.75, 0.975, None]\n",
    "    quantiles = [0.05, 0.25, 0.75, 0.95, None]\n",
    "    df = df[df[\"quantile\"].isin(quantiles)]\n",
    "    \n",
    "    df[\"Unit\"] = \"integer\"\n",
    "\n",
    "    # Rename bin column\n",
    "    df = df.rename(columns={\"target\": \"Target\",\n",
    "                            \"state_name\": \"Location\",\n",
    "                            \"type\": \"Type\",\n",
    "                            \"quantile\": \"Quantile\",\n",
    "                            \"value\": \"Value\"})\n",
    "\n",
    "    # use \"NA\" instead of null value\n",
    "    df = df.fillna(\"NA\")\n",
    "\n",
    "    # Reorder Columns\n",
    "    df = df[[\"Location\", \"Target\", \"Type\", \"Unit\", \"Quantile\", \"Value\"]]\n",
    "\n",
    "    return df\n",
    "\n",
    "\n",
    "# loop through model directories\n",
    "my_path = \"./data/\"\n",
    "for file_path in glob.iglob(my_path + \"**/**/*.csv\", recursive=False):\n",
    "    print(file_path)\n",
    "    df2 = reformat_forecasts(file_path)\n",
    "    #print(df2)\n",
    "    df2.to_csv(file_path, index=False, float_format='%.14f')\n"
   ]
  },
  {
   "cell_type": "code",
   "execution_count": null,
   "metadata": {},
   "outputs": [],
   "source": []
  }
 ],
 "metadata": {
  "kernelspec": {
   "display_name": "Python 3",
   "language": "python",
   "name": "python3"
  },
  "language_info": {
   "codemirror_mode": {
    "name": "ipython",
    "version": 3
   },
   "file_extension": ".py",
   "mimetype": "text/x-python",
   "name": "python",
   "nbconvert_exporter": "python",
   "pygments_lexer": "ipython3",
   "version": "3.6.10"
  }
 },
 "nbformat": 4,
 "nbformat_minor": 2
}
